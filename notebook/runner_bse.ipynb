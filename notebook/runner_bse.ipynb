{
 "cells": [
  {
   "cell_type": "code",
   "execution_count": 1,
   "id": "3fabc8ae-9527-4faf-997d-33dcd7f9099a",
   "metadata": {},
   "outputs": [],
   "source": [
    "import os\n",
    "import shutil\n",
    "import gzip\n",
    "import requests\n",
    "from pathlib import Path\n",
    "from datetime import datetime, timedelta\n",
    "from typing import Union"
   ]
  },
  {
   "cell_type": "code",
   "execution_count": 2,
   "id": "b1273ec3-394f-4f8c-8ae9-e953e5ea0fe9",
   "metadata": {},
   "outputs": [],
   "source": [
    "output_dir = \"../data/bse/equity/bse\"\n",
    "TIMEOUT = 20  # seconds"
   ]
  },
  {
   "cell_type": "code",
   "execution_count": 3,
   "id": "efdc53de-53c4-4a17-a8c0-8174ba5bcc50",
   "metadata": {},
   "outputs": [],
   "source": [
    "HEADERS = {\n",
    "    \"User-Agent\": \"Mozilla/5.0\",\n",
    "    \"Accept\": \"*/*\",\n",
    "    \"Accept-Encoding\": \"gzip, deflate\",\n",
    "    \"Referer\": \"https://www.nseindia.com\"\n",
    "}"
   ]
  },
  {
   "cell_type": "code",
   "execution_count": 4,
   "id": "46ac7eee-12b0-4201-97a4-d273ac4ee2b0",
   "metadata": {},
   "outputs": [],
   "source": [
    "def download_file(url: str, dest_path: Path, headers=HEADERS):\n",
    "    try:\n",
    "        response = requests.get(url, headers=HEADERS, timeout=TIMEOUT)\n",
    "        if response.status_code == 200:\n",
    "            with open(dest_path, \"wb\") as f:\n",
    "                f.write(response.content)\n",
    "            print(f\"✅ Downloaded: {dest_path}\")\n",
    "            return dest_path\n",
    "        else:\n",
    "            raise Exception(f\"HTTP {response.status_code}\")\n",
    "    except Exception as e:\n",
    "        print(f\"❌ Failed for {url}: {e}\")\n",
    "        return None"
   ]
  },
  {
   "cell_type": "code",
   "execution_count": 5,
   "id": "c8be1b25-c784-4c5e-b957-27de18736216",
   "metadata": {},
   "outputs": [],
   "source": [
    "def download_bse_equity_bhavcopy(date_str: str, output_dir: Union[str, Path]) -> Path:\n",
    "    \"\"\"\n",
    "    Download and extract NSE equity bhavcopy for a given date.\n",
    "    :param date_str: Format ddMMMyyyy (e.g., 05AUG2024)\n",
    "    :param output_dir: Folder to save the extracted CSV\n",
    "    :return: Path to extracted CSV file\n",
    "    \"\"\"\n",
    "    date_obj = datetime.strptime(date_str.upper(), \"%d%b%Y\")\n",
    "\n",
    "    # Ensure output folder\n",
    "    output_dir = Path(output_dir)\n",
    "    output_dir.mkdir(parents=True, exist_ok=True)\n",
    "    \n",
    "   \n",
    "    # Download URL and destination\n",
    "    url = f\"https://www.bseindia.com/download/BhavCopy/Equity/BhavCopy_BSE_CM_0_0_0_{date_obj:%Y%m%d}_F_0000.CSV\"\n",
    "    output_dir = Path(output_dir)\n",
    "    file_path = output_dir / f\"{date_obj:%d%b%Y}.csv\"\n",
    "    \n",
    "    # Download and extract\n",
    "    download_file(url, file_path)\n",
    "    \n",
    "    # Rename file\n",
    "    # final_filename = date_obj.strftime(\"%d%b%Y\").upper() + \".csv\"\n",
    "    final_filename = date_obj.strftime(\"%Y%m%d\") + \".csv\"\n",
    "    final_path = output_dir / final_filename\n",
    "    \n",
    "    # Compress the file to .csv.gz to save space\n",
    "    gz_path = final_path.with_suffix(\".csv.gz\")\n",
    "    with open(final_path, 'rb') as f_in, gzip.open(gz_path, 'wb') as f_out:\n",
    "        shutil.copyfileobj(f_in, f_out)\n",
    "\n",
    "    # Optionally remove the uncompressed CSV\n",
    "    final_path.unlink()  # deletes original .csv file\n",
    "\n",
    "    print(f\"✅ Extracted file saved at: {gz_path}\")\n",
    "    return final_path"
   ]
  },
  {
   "cell_type": "code",
   "execution_count": 6,
   "id": "08d30326-432e-4809-8613-8fb1b125a40e",
   "metadata": {},
   "outputs": [],
   "source": [
    "def download_bhavcopy_range(start_date: str, end_date: str, output_dir: Union[str, Path]) -> list:\n",
    "    \"\"\"\n",
    "    Download NSE equity bhavcopies between two dates (inclusive), skipping weekends.\n",
    "\n",
    "    :param start_date: Start date in ddMMMyyyy (e.g., \"01AUG2025\")\n",
    "    :param end_date: End date in ddMMMyyyy (e.g., \"05AUG2025\")\n",
    "    :param output_dir: Directory to store downloaded CSVs\n",
    "    :return: List of Paths to downloaded files\n",
    "    \"\"\"\n",
    "    start = datetime.strptime(start_date.upper(), \"%d%b%Y\")\n",
    "    end = datetime.strptime(end_date.upper(), \"%d%b%Y\")\n",
    "\n",
    "    current = start\n",
    "    downloaded_files = []\n",
    "\n",
    "    while current <= end:\n",
    "        if current.weekday() < 5:  # 0–4 = Mon–Fri\n",
    "            date_str = current.strftime(\"%d%b%Y\").upper()\n",
    "            try:\n",
    "                file_path = download_bse_equity_bhavcopy(date_str, output_dir)\n",
    "                downloaded_files.append(file_path)\n",
    "            except Exception as e:\n",
    "                print(f\"❌ Failed for {date_str}: {e}\")\n",
    "        else:\n",
    "            print(f\"⏭️ Skipping weekend: {current.strftime('%A %d-%b-%Y')}\")\n",
    "        current += timedelta(days=1)\n",
    "\n",
    "    print(f\"✅ Completed. {len(downloaded_files)} files downloaded.\")\n",
    "    return downloaded_files"
   ]
  },
  {
   "cell_type": "code",
   "execution_count": null,
   "id": "9623b204-5d03-49ef-a433-b5f21bcb0a6a",
   "metadata": {},
   "outputs": [],
   "source": [
    "download_bhavcopy_range(\"01JAN2024\", \"31DEC2024\", \"../data/bse/equity/2024\")"
   ]
  },
  {
   "cell_type": "code",
   "execution_count": null,
   "id": "a8902092-f038-48ed-ae24-6442b11839e4",
   "metadata": {},
   "outputs": [],
   "source": []
  }
 ],
 "metadata": {
  "kernelspec": {
   "display_name": "Python 3 (ipykernel)",
   "language": "python",
   "name": "python3"
  },
  "language_info": {
   "codemirror_mode": {
    "name": "ipython",
    "version": 3
   },
   "file_extension": ".py",
   "mimetype": "text/x-python",
   "name": "python",
   "nbconvert_exporter": "python",
   "pygments_lexer": "ipython3",
   "version": "3.10.17"
  }
 },
 "nbformat": 4,
 "nbformat_minor": 5
}
