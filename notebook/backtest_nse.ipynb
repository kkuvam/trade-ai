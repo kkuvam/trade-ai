{
 "cells": [
  {
   "cell_type": "code",
   "execution_count": 1,
   "id": "7c9aaeef-c778-4b3f-ba0d-69a83889ade5",
   "metadata": {},
   "outputs": [],
   "source": [
    "import os\n",
    "import pandas as pd\n",
    "import numpy as np\n",
    "import matplotlib.pyplot as plt\n",
    "from datetime import datetime, timedelta\n",
    "from typing import List\n",
    "from pathlib import Path\n",
    "from nifty_index import NIFTY_METAL as index_stocks"
   ]
  },
  {
   "cell_type": "code",
   "execution_count": 2,
   "id": "3070efda-ddc0-48f6-9109-2ab68918ab74",
   "metadata": {},
   "outputs": [
    {
     "name": "stdout",
     "output_type": "stream",
     "text": [
      "['COALINDIA', 'HINDALCO', 'JINDALSTEL', 'JSWSTEEL', 'MOIL', 'NALCO', 'NMDC', 'RATNAMANI', 'SAIL', 'TATASTEEL', 'VEDL', 'WELCORP']\n"
     ]
    }
   ],
   "source": [
    "print(index_stocks)"
   ]
  },
  {
   "cell_type": "code",
   "execution_count": 3,
   "id": "0c27fb27-41cf-4401-8acc-80ead868f2c0",
   "metadata": {},
   "outputs": [],
   "source": [
    "def load_signal_data(signal_dir: str = \"../signal/se/equity\", index_stocks: list = None) -> pd.DataFrame:\n",
    "    \"\"\"\n",
    "    Loads all CSV signal files from the given directory (recursively),\n",
    "    filters to include only index stock signals, and returns a cleaned DataFrame.\n",
    "    \n",
    "    Args:\n",
    "        signal_dir (str): Path to the folder containing signal files.\n",
    "        index_stocks (list): List of index stock symbols to filter. If None, loads all.\n",
    "\n",
    "    Returns:\n",
    "        pd.DataFrame: Combined signal DataFrame for index stocks.\n",
    "    \"\"\"\n",
    "    signal_data = []\n",
    "    signal_dir = Path(signal_dir)\n",
    "\n",
    "    for file in signal_dir.rglob(\"*.csv\"):\n",
    "        try:\n",
    "            df = pd.read_csv(file)\n",
    "            if 'Symbol' in df.columns and not df.empty:\n",
    "                df['Date'] = pd.to_datetime(df['Date'])\n",
    "                signal_data.append(df)\n",
    "        except Exception as e:\n",
    "            print(f\"❌ Failed to load {file}: {e}\")\n",
    "\n",
    "    if not signal_data:\n",
    "        raise ValueError(\"No valid signal files found!\")\n",
    "\n",
    "    # Concatenate and clean\n",
    "    full_df = pd.concat(signal_data, ignore_index=True)\n",
    "    full_df.drop_duplicates(subset=[\"Date\", \"Symbol\"], inplace=True)\n",
    "\n",
    "    # Filter for index stocks\n",
    "    if index_stocks is not None:\n",
    "        full_df = full_df[full_df['Symbol'].isin(index_stocks)]\n",
    "\n",
    "    # Set Date as Datetime\n",
    "    full_df['Date'] = pd.to_datetime(full_df['Date'], format='%Y-%m-%d', errors='coerce')\n",
    "    # Sort for time-series logic\n",
    "    full_df.sort_values(by=[\"Date\", \"Symbol\"], inplace=True)\n",
    "\n",
    "\n",
    "    # Optional: select only required columns\n",
    "    final_cols = ['Date', 'Symbol', 'Signal']\n",
    "    available_cols = [col for col in final_cols if col in full_df.columns]\n",
    "    return full_df[available_cols].reset_index(drop=True)\n"
   ]
  },
  {
   "cell_type": "code",
   "execution_count": 4,
   "id": "28ee493f-cd9c-41f8-ae77-7c1ed8c2d988",
   "metadata": {},
   "outputs": [],
   "source": [
    "def load_price_data(signal_df: pd.DataFrame, index_stocks: List[str], data_dir: str = \"../data/nse/equity\") -> pd.DataFrame:\n",
    "    \"\"\"\n",
    "    Load raw price data for only the dates and index stocks relevant to the signal DataFrame.\n",
    "\n",
    "    Args:\n",
    "        signal_df (pd.DataFrame): DataFrame with 'Date' column to extract required dates.\n",
    "        index_stocks (List[str]): List of index stock symbols to filter.\n",
    "        data_dir (str): Path to the root data directory containing year/date-based .csv.gz files.\n",
    "\n",
    "    Returns:\n",
    "        pd.DataFrame: Pivoted DataFrame with Date as index, Symbol as columns, Close price as values.\n",
    "    \"\"\"\n",
    "    needed_dates = pd.to_datetime(signal_df['Date'].unique()).strftime('%Y%m%d')\n",
    "    needed_years = set(date[:4] for date in needed_dates)\n",
    "\n",
    "    all_prices = []\n",
    "\n",
    "    for year in needed_years:\n",
    "        year_path = Path(data_dir) / year\n",
    "        if not year_path.exists():\n",
    "            continue\n",
    "\n",
    "        for date_str in needed_dates:\n",
    "            if not date_str.startswith(year):\n",
    "                continue\n",
    "\n",
    "            file_path = year_path / f\"{date_str}.csv.gz\"\n",
    "            if not file_path.exists():\n",
    "                continue\n",
    "            try:\n",
    "                df = pd.read_csv(file_path, compression='gzip')\n",
    "                df = df[df['TckrSymb'].isin(index_stocks)]\n",
    "                df = df[['TradDt', 'TckrSymb', 'OpnPric', 'HghPric', 'LwPric', 'ClsPric', 'TtlTradgVol', 'TtlTrfVal', 'TtlNbOfTxsExctd']]\n",
    "                df.columns = ['Date', 'Symbol', 'Open', 'High', 'Low', 'Close', 'Volume' , 'Value', 'Trans']\n",
    "                df['Date'] = pd.to_datetime(df['Date'])\n",
    "\n",
    "                # Remove duplicates if any\n",
    "                df.drop_duplicates(subset=['Date', 'Symbol'], inplace=True)\n",
    "                                            \n",
    "                all_prices.append(df)\n",
    "            except Exception as e:\n",
    "                print(f\"⚠️ Error loading {file_path}: {e}\")\n",
    "\n",
    "    if not all_prices:\n",
    "        raise ValueError(\"No valid price data found for the selected dates.\")\n",
    "\n",
    "    # Combine and pivot\n",
    "    price_df = pd.concat(all_prices, ignore_index=True)\n",
    "    price_df.sort_values(['Date', 'Symbol'], inplace=True)\n",
    "\n",
    "    return price_df"
   ]
  },
  {
   "cell_type": "code",
   "execution_count": 5,
   "id": "520d6dba-5986-4408-b0e4-b1a3d6a9656c",
   "metadata": {},
   "outputs": [],
   "source": [
    "# Data parameters\n",
    "signal_dir = \"../signal/nse/equity\"\n",
    "data_dir = \"../data/nse/equity\"\n",
    "# Backtest parameters\n",
    "initial_capital = 1000000.0  # 10,00,000 INR\n",
    "num_tranches = 10\n",
    "tranche_size = initial_capital / num_tranches\n",
    "commission = 0.0  # Assume no commission; add if needed"
   ]
  },
  {
   "cell_type": "code",
   "execution_count": 6,
   "id": "9dabe590-a8bf-4907-82d3-4a97c11a4f7d",
   "metadata": {},
   "outputs": [
    {
     "name": "stdout",
     "output_type": "stream",
     "text": [
      "📥 Loading signal data...\n",
      "💰 Preparing price data...\n"
     ]
    }
   ],
   "source": [
    "print(\"📥 Loading signal data...\")\n",
    "signals = load_signal_data(signal_dir, index_stocks)\n",
    "# Verify unique Date-Symbol combination\n",
    "duplicate_date_symbol = signals.duplicated(subset=['Date', 'Symbol']).sum()\n",
    "if duplicate_date_symbol > 0:\n",
    "    print(f\"Error: {duplicate_date_symbol} duplicate Date-Symbol pairs found\")\n",
    "    print(\"Duplicate Date-Symbol rows:\\n\", signals[signals.duplicated(subset=['Date', 'Symbol'], keep=False)][['Date', 'Symbol', 'Signal']])\n",
    "    raise ValueError(\"Date-Symbol combination must be unique\")\n",
    "\n",
    "print(\"💰 Preparing price data...\")\n",
    "prices = load_price_data(signals, index_stocks, data_dir)\n",
    "# Verify unique Date-Symbol combination\n",
    "duplicate_date_symbol = prices.duplicated(subset=['Date', 'Symbol']).sum()\n",
    "if duplicate_date_symbol > 0:\n",
    "    print(f\"Error: {duplicate_date_symbol} duplicate Date-Symbol pairs found\")\n",
    "    print(\"Duplicate Date-Symbol rows:\\n\", prices[prices.duplicated(subset=['Date', 'Symbol'], keep=False)][['Date', 'Symbol', 'Signal']])\n",
    "    raise ValueError(\"Date-Symbol combination must be unique\")\n",
    "\n"
   ]
  },
  {
   "cell_type": "code",
   "execution_count": 7,
   "id": "2cea3135-b23e-43f9-ac82-c01309fc8cc3",
   "metadata": {},
   "outputs": [
    {
     "name": "stdout",
     "output_type": "stream",
     "text": [
      "\n",
      "Price data dates: 2025-01-20 00:00:00 to 2025-09-12 00:00:00 (1771 days)\n",
      "Signal data dates: 2025-01-20 00:00:00 to 2025-09-12 00:00:00 (1771 days)\n",
      "2025-08-20 found in prices\n",
      "2025-08-20 found in signals\n"
     ]
    }
   ],
   "source": [
    "# Filter data for the backtest period: Jan 1, 2025 to Sep 19, 2025 (adjust end date if needed)\n",
    "start_date = pd.to_datetime('2025-01-20')\n",
    "end_date = pd.to_datetime('2025-09-12')\n",
    "prices = prices[(prices['Date'] >= start_date) & (prices['Date'] <= end_date)]\n",
    "signals = signals[(signals['Date'] >= start_date) & (signals['Date'] <= end_date)]\n",
    "\n",
    "# Check data availability\n",
    "print(\"\\nPrice data dates:\", prices['Date'].min(), \"to\", prices['Date'].max(), f\"({len(prices)} days)\")\n",
    "print(\"Signal data dates:\", signals['Date'].min(), \"to\", signals['Date'].max(), f\"({len(signals)} days)\")\n",
    "test_date = pd.to_datetime('2025-08-20')\n",
    "if test_date in prices['Date'].values:\n",
    "    print(f\"{test_date.date()} found in prices\")\n",
    "else:\n",
    "    print(f\"{test_date.date()} NOT found in prices. Using first available date.\")\n",
    "if test_date in signals['Date'].values:\n",
    "    print(f\"{test_date.date()} found in signals\")\n",
    "else:\n",
    "    print(f\"{test_date.date()} NOT found in signals\")"
   ]
  },
  {
   "cell_type": "code",
   "execution_count": 8,
   "id": "749ac125-3ae1-46fa-ab23-d1820d35016d",
   "metadata": {},
   "outputs": [],
   "source": [
    "# Align signals: Signal on date D applies to D+1\n",
    "trading_days = prices['Date'].sort_values().unique()\n",
    "signal_mapped = pd.DataFrame({'Date': trading_days, 'Signal': 'HOLD'})\n",
    "for signal_date in signals['Date']:\n",
    "    # Find the next trading day after signal_date\n",
    "    next_trading_day = trading_days[trading_days > signal_date]\n",
    "    if len(next_trading_day) > 0:\n",
    "        next_day = next_trading_day[0]\n",
    "        signal_value = signals[signals['Date'] == signal_date]['Signal'].iloc[0]\n",
    "        signal_mapped.loc[signal_mapped['Date'] == next_day, 'Signal'] = signal_value\n",
    "\n",
    "# Verify data\n",
    "if len(prices) <= 1:\n",
    "    raise ValueError(\"Insufficient price data\")\n",
    "if len(signal_mapped) == 0:\n",
    "    raise ValueError(\"No aligned signals in the period\")"
   ]
  },
  {
   "cell_type": "code",
   "execution_count": 9,
   "id": "beffa70b-dd29-4820-a85d-e53f48cb6017",
   "metadata": {},
   "outputs": [
    {
     "name": "stdout",
     "output_type": "stream",
     "text": [
      "\n",
      "Unique symbols: ['COALINDIA' 'HINDALCO' 'JINDALSTEL' 'JSWSTEEL' 'MOIL' 'NMDC' 'RATNAMANI'\n",
      " 'SAIL' 'TATASTEEL' 'VEDL' 'WELCORP']\n"
     ]
    }
   ],
   "source": [
    "# Backtest parameters\n",
    "initial_capital = 1000000.0\n",
    "num_tranches = 10\n",
    "tranche_size = initial_capital / num_tranches\n",
    "commission = 0.0\n",
    "\n",
    "# Get unique symbols from signals\n",
    "unique_symbols = signals['Symbol'].unique()\n",
    "print(\"\\nUnique symbols:\", unique_symbols)\n",
    "\n",
    "# Initialize tracking variables\n",
    "cash = initial_capital\n",
    "positions = {sym: {'shares': 0.0, 'tranches_used': 0} for sym in unique_symbols}\n",
    "portfolio_history = []"
   ]
  },
  {
   "cell_type": "code",
   "execution_count": 10,
   "id": "1bb2e188-a95d-4665-98f9-dfd14ead8524",
   "metadata": {},
   "outputs": [
    {
     "name": "stdout",
     "output_type": "stream",
     "text": [
      "\n",
      "Initial date: 2025-01-20\n",
      "Close price on initial date: 387.05\n"
     ]
    }
   ],
   "source": [
    "# Select first valid trading day\n",
    "if len(trading_days) == 0:\n",
    "    raise ValueError(\"No trading days available in the price data\")\n",
    "initial_date = trading_days[0]\n",
    "if initial_date not in prices['Date'].values:\n",
    "    raise ValueError(f\"Initial date {initial_date.date()} not in prices\")\n",
    "\n",
    "# Debug: Verify initial_date\n",
    "print(f\"\\nInitial date: {initial_date.date()}\")\n",
    "try:\n",
    "    close_price = prices[prices['Date'] == initial_date]['Close'].iloc[0]\n",
    "    print(f\"Close price on initial date: {close_price}\")\n",
    "except IndexError:\n",
    "    print(f\"Error accessing Close price for {initial_date.date()}\")\n",
    "    raise"
   ]
  },
  {
   "cell_type": "code",
   "execution_count": 11,
   "id": "58300af5-61d1-40ed-896c-0c57ef66e879",
   "metadata": {},
   "outputs": [],
   "source": [
    "# Add initial portfolio state\n",
    "initial_date = trading_days[0]\n",
    "position_value = 0.0\n",
    "for sym in unique_symbols:\n",
    "    price_row = prices[(prices['Date'] == initial_date) & (prices['Symbol'] == sym)]\n",
    "    if not price_row.empty:\n",
    "        position_value += positions[sym]['shares'] * price_row['Close'].iloc[0]\n",
    "portfolio_value = cash + position_value\n",
    "portfolio_history.append({\n",
    "    'Date': initial_date,\n",
    "    'Cash': cash,\n",
    "    'Position_Value': position_value,\n",
    "    'Portfolio_Value': portfolio_value,\n",
    "    'Tranches_Used': sum(p['tranches_used'] for p in positions.values())\n",
    "})\n"
   ]
  },
  {
   "cell_type": "code",
   "execution_count": 12,
   "id": "b3e20ce3-ea28-45ba-8742-59c70be67dba",
   "metadata": {},
   "outputs": [
    {
     "name": "stdout",
     "output_type": "stream",
     "text": [
      "BUY TATASTEEL on 2025-04-08: Bought 741.34 shares at 134.89, Tranche 1/10\n",
      "BUY NMDC on 2025-04-09: Bought 1624.17 shares at 61.57, Tranche 1/10\n",
      "BUY TATASTEEL on 2025-04-09: Bought 769.23 shares at 130.00, Tranche 2/10\n",
      "BUY TATASTEEL on 2025-04-11: Bought 742.56 shares at 134.67, Tranche 3/10\n",
      "SELL TATASTEEL on 2025-04-22: Sold 2253.13 shares at 142.00\n",
      "SELL NMDC on 2025-05-09: Sold 1624.17 shares at 62.00\n",
      "BUY NMDC on 2025-06-23: Bought 1477.10 shares at 67.70, Tranche 1/10\n",
      "BUY TATASTEEL on 2025-06-23: Bought 664.45 shares at 150.50, Tranche 1/10\n",
      "BUY NMDC on 2025-06-24: Bought 1444.04 shares at 69.25, Tranche 2/10\n",
      "SELL NMDC on 2025-07-11: Sold 2921.15 shares at 69.00\n",
      "SELL TATASTEEL on 2025-07-17: Sold 664.45 shares at 157.50\n",
      "BUY SAIL on 2025-07-30: Bought 793.65 shares at 126.00, Tranche 1/10\n",
      "BUY SAIL on 2025-08-04: Bought 828.78 shares at 120.66, Tranche 2/10\n",
      "SELL SAIL on 2025-08-06: Sold 1622.43 shares at 124.89\n"
     ]
    }
   ],
   "source": [
    "# Backtest loop\n",
    "for i in range(1, len(trading_days)):\n",
    "    current_date = trading_days[i]\n",
    "    previous_date = trading_days[i-1]  # Assume consecutive trading days; adjust if gaps\n",
    "\n",
    "    # Process each symbol\n",
    "    for sym in unique_symbols:\n",
    "        # Get signal for this symbol from previous date\n",
    "        signal_row = signals[(signals['Date'] == previous_date) & (signals['Symbol'] == sym)]\n",
    "        if not signal_row.empty:\n",
    "            signal = signal_row['Signal'].iloc[0].upper()\n",
    "        else:\n",
    "            signal = 'HOLD'\n",
    "\n",
    "        # Get prices for this symbol on current date\n",
    "        price_row = prices[(prices['Date'] == current_date) & (prices['Symbol'] == sym)]\n",
    "        if price_row.empty:\n",
    "            print(f\"Skipping {sym} on {current_date.date()}: Missing price data\")\n",
    "            continue\n",
    "        open_price = price_row['Open'].iloc[0]\n",
    "        close_price = price_row['Close'].iloc[0]\n",
    "\n",
    "        # Execute trade\n",
    "        if signal == 'BUY' and positions[sym]['tranches_used'] < num_tranches and cash >= tranche_size:\n",
    "            buy_amount = tranche_size\n",
    "            shares_to_buy = buy_amount / open_price\n",
    "            positions[sym]['shares'] += shares_to_buy\n",
    "            cash -= buy_amount\n",
    "            positions[sym]['tranches_used'] += 1\n",
    "            print(f\"BUY {sym} on {current_date.date()}: Bought {shares_to_buy:.2f} shares at {open_price:.2f}, Tranche {positions[sym]['tranches_used']}/{num_tranches}\")\n",
    "\n",
    "        elif signal == 'SELL' and positions[sym]['shares'] > 0:\n",
    "            sell_proceeds = positions[sym]['shares'] * open_price\n",
    "            cash += sell_proceeds\n",
    "            print(f\"SELL {sym} on {current_date.date()}: Sold {positions[sym]['shares']:.2f} shares at {open_price:.2f}\")\n",
    "            positions[sym]['shares'] = 0.0\n",
    "            positions[sym]['tranches_used'] = 0\n",
    "\n",
    "        elif signal == 'HOLD':\n",
    "            pass\n",
    "\n",
    "    # Calculate current portfolio value at close\n",
    "    position_value = 0.0\n",
    "    for sym in unique_symbols:\n",
    "        price_row = prices[(prices['Date'] == current_date) & (prices['Symbol'] == sym)]\n",
    "        if not price_row.empty:\n",
    "            position_value += positions[sym]['shares'] * price_row['Close'].iloc[0]\n",
    "    portfolio_value = cash + position_value\n",
    "\n",
    "    # Record history\n",
    "    portfolio_history.append({\n",
    "        'Date': current_date,\n",
    "        'Cash': cash,\n",
    "        'Position_Value': position_value,\n",
    "        'Portfolio_Value': portfolio_value,\n",
    "        'Tranches_Used': sum(p['tranches_used'] for p in positions.values())\n",
    "    })"
   ]
  },
  {
   "cell_type": "code",
   "execution_count": 13,
   "id": "79e41fba-e7f3-4d4c-9f85-7c28bb2b3be6",
   "metadata": {},
   "outputs": [
    {
     "name": "stdout",
     "output_type": "stream",
     "text": [
      "Running Portfolio Tally:\n",
      "          Date        Cash  Position_Value  Portfolio_Value  Tranches_Used\n",
      "0   2025-01-20  1000000.00             0.0       1000000.00              0\n",
      "1   2025-01-21  1000000.00             0.0       1000000.00              0\n",
      "2   2025-01-22  1000000.00             0.0       1000000.00              0\n",
      "3   2025-01-23  1000000.00             0.0       1000000.00              0\n",
      "4   2025-01-24  1000000.00             0.0       1000000.00              0\n",
      "..         ...         ...             ...              ...            ...\n",
      "156 2025-09-08  1029478.21             0.0       1029478.21              0\n",
      "157 2025-09-09  1029478.21             0.0       1029478.21              0\n",
      "158 2025-09-10  1029478.21             0.0       1029478.21              0\n",
      "159 2025-09-11  1029478.21             0.0       1029478.21              0\n",
      "160 2025-09-12  1029478.21             0.0       1029478.21              0\n",
      "\n",
      "[161 rows x 5 columns]\n"
     ]
    },
    {
     "data": {
      "image/png": "[encoded data removed]",
      "text/plain": [
       "<Figure size 1200x600 with 1 Axes>"
      ]
     },
     "metadata": {},
     "output_type": "display_data"
    }
   ],
   "source": [
    "# Convert history to DataFrame\n",
    "portfolio_df = pd.DataFrame(portfolio_history)\n",
    "\n",
    "# Display running tally\n",
    "print(\"Running Portfolio Tally:\")\n",
    "print(portfolio_df.round(2))\n",
    "\n",
    "# Plot the portfolio value over time\n",
    "plt.figure(figsize=(12, 6))\n",
    "plt.plot(portfolio_df['Date'], portfolio_df['Portfolio_Value'], label='Portfolio Value', color='blue')\n",
    "plt.title('Backtest Portfolio Value Over Time')\n",
    "plt.xlabel('Date')\n",
    "plt.ylabel('Portfolio Value (INR)')\n",
    "plt.legend()\n",
    "plt.grid(True)\n",
    "plt.xticks(rotation=45)\n",
    "plt.tight_layout()\n",
    "plt.show()"
   ]
  },
  {
   "cell_type": "code",
   "execution_count": 14,
   "id": "5aa9efa4-127c-4a31-b335-0c4277643725",
   "metadata": {},
   "outputs": [
    {
     "name": "stdout",
     "output_type": "stream",
     "text": [
      "\n",
      "Portfolio Summary:\n",
      "Initial Capital: 1,000,000.00 INR\n",
      "Final Portfolio Value: 1,029,478.21 INR\n",
      "Total Return (%): 2.95%\n",
      "CAGR (%): 4.62%\n",
      "Sharpe Ratio: 1.43\n",
      "Number of Trading Days: 161\n",
      "Number of BUY Signals: 9\n",
      "Number of SELL Signals: 563\n",
      "Total Trades: 572\n",
      "Max Tranches Used: 4\n"
     ]
    }
   ],
   "source": [
    "# Portfolio Summary\n",
    "final_value = portfolio_df['Portfolio_Value'].iloc[-1]\n",
    "total_return = ((final_value - initial_capital) / initial_capital) * 100\n",
    "num_days = (portfolio_df['Date'].iloc[-1] - portfolio_df['Date'].iloc[0]).days\n",
    "cagr = ((final_value / initial_capital) ** (365 / num_days) - 1) * 100 if num_days > 0 else 0\n",
    "\n",
    "# Simple returns for Sharpe (daily returns, assume risk-free rate = 0)\n",
    "daily_returns = portfolio_df['Portfolio_Value'].pct_change().dropna()\n",
    "sharpe_ratio = (daily_returns.mean() / daily_returns.std()) * np.sqrt(252) if daily_returns.std() != 0 else 0\n",
    "\n",
    "# Count trades (approximate: number of BUY + SELL signals)\n",
    "num_buys = len(signals[signals['Signal'] == 'BUY'])\n",
    "num_sells = len(signals[signals['Signal'] == 'SELL'])\n",
    "num_trades = num_buys + num_sells\n",
    "\n",
    "summary = {\n",
    "    'Initial Capital': f\"{initial_capital:,.2f} INR\",\n",
    "    'Final Portfolio Value': f\"{final_value:,.2f} INR\",\n",
    "    'Total Return (%)': f\"{total_return:.2f}%\",\n",
    "    'CAGR (%)': f\"{cagr:.2f}%\",\n",
    "    'Sharpe Ratio': f\"{sharpe_ratio:.2f}\",\n",
    "    'Number of Trading Days': len(portfolio_df),\n",
    "    'Number of BUY Signals': num_buys,\n",
    "    'Number of SELL Signals': num_sells,\n",
    "    'Total Trades': num_trades,\n",
    "    'Max Tranches Used': portfolio_df['Tranches_Used'].max()\n",
    "}\n",
    "\n",
    "print(\"\\nPortfolio Summary:\")\n",
    "for key, value in summary.items():\n",
    "    print(f\"{key}: {value}\")"
   ]
  },
  {
   "cell_type": "code",
   "execution_count": null,
   "id": "b819ceb8-61ec-453c-a0dc-00a7a8bdf46a",
   "metadata": {},
   "outputs": [],
   "source": []
  }
 ],
 "metadata": {
  "kernelspec": {
   "display_name": "Python 3 (ipykernel)",
   "language": "python",
   "name": "python3"
  },
  "language_info": {
   "codemirror_mode": {
    "name": "ipython",
    "version": 3
   },
   "file_extension": ".py",
   "mimetype": "text/x-python",
   "name": "python",
   "nbconvert_exporter": "python",
   "pygments_lexer": "ipython3",
   "version": "3.11.12"
  }
 },
 "nbformat": 4,
 "nbformat_minor": 5
}
